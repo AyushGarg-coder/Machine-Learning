{
 "cells": [
  {
   "cell_type": "code",
   "execution_count": null,
   "id": "e2b36b01",
   "metadata": {},
   "outputs": [],
   "source": [
    "#Experiment - 3\n",
    "# load the excel\n",
    "#rename the following columns for the shared database\n",
    "# count total no of rows and parameter\n",
    "# count no of male and female\n",
    "# state wise count\n",
    "# categoty wise count\n",
    "# no of null values\n",
    "# pending dues count\n",
    "# students having pending dues\n",
    "# extract specific columns rol number name and mentor\n",
    "# list of students where aadhaar not avaialable"
   ]
  },
  {
   "cell_type": "code",
   "execution_count": 33,
   "id": "45eb65b6",
   "metadata": {},
   "outputs": [
    {
     "name": "stdout",
     "output_type": "stream",
     "text": [
      "Ayush Garg\n",
      "1/22/FET/BCS/162\n"
     ]
    }
   ],
   "source": [
    "print(\"Ayush Garg\")\n",
    "print(\"1/22/FET/BCS/162\")"
   ]
  },
  {
   "cell_type": "code",
   "execution_count": 39,
   "id": "d0584cbc",
   "metadata": {},
   "outputs": [],
   "source": [
    "import pandas as pd"
   ]
  },
  {
   "cell_type": "code",
   "execution_count": 40,
   "id": "e8540518",
   "metadata": {},
   "outputs": [
    {
     "name": "stdout",
     "output_type": "stream",
     "text": [
      "    S.No. Semester                           Branch /Course  \\\n",
      "0     NaN      NaN                                      NaN   \n",
      "1     1.0    5CSA1  B.Tech - Computer Science & Engineering   \n",
      "2     2.0    5CSA1  B.Tech - Computer Science & Engineering   \n",
      "3     3.0    5CSA1  B.Tech - Computer Science & Engineering   \n",
      "4     4.0    5CSA1  B.Tech - Computer Science & Engineering   \n",
      "..    ...      ...                                      ...   \n",
      "58   58.0    5CSA2  B.Tech - Computer Science & Engineering   \n",
      "59   59.0    5CSA2  B.Tech - Computer Science & Engineering   \n",
      "60   60.0    5CSA1  B.Tech - Computer Science & Engineering   \n",
      "61   61.0    5CSA1  B.Tech - Computer Science & Engineering   \n",
      "62   62.0    5CSA2                                      NaN   \n",
      "\n",
      "   University Registration No. (Issued by R&S Branch)  \\\n",
      "0                                                 NaN   \n",
      "1                                         22/FET/0062   \n",
      "2                                         22/FET/0063   \n",
      "3                                         22/FET/0064   \n",
      "4                                         22/FET/0065   \n",
      "..                                                ...   \n",
      "58                                        22/FET/0117   \n",
      "59                                        22/FET/0118   \n",
      "60                                        22/FET/0256   \n",
      "61                                        21/SET/2097   \n",
      "62                                                NaN   \n",
      "\n",
      "   Date of Admission in the Present Class/Course          Roll No.  \\\n",
      "0                                            NaN               NaN   \n",
      "1                                     29.07.2025  1/22/FET/BCS/002   \n",
      "2                                     29.07.2024  1/22/FET/BCS/003   \n",
      "3                                     29.07.2024  1/22/FET/BCS/004   \n",
      "4                                     29.07.2024  1/22/FET/BCS/005   \n",
      "..                                           ...               ...   \n",
      "58                                    29.07.2024  1/22/FET/BCS/063   \n",
      "59                                    29.07.2024  1/22/FET/BCS/064   \n",
      "60                                    29.07.2024  1/22/FET/BCS/434   \n",
      "61                                    29.07.2025  1/21/FET/BCS/063   \n",
      "62                                           NaN      12401005M002   \n",
      "\n",
      "   Spelling strictly as per Registration record in Capital Letters (Issued by R&S Branch)-SN  \\\n",
      "0                                     Name of Student                                          \n",
      "1                                          YASH VERMA                                          \n",
      "2                                   KUMARI JAN NASHIN                                          \n",
      "3                                        MANAS RANJAN                                          \n",
      "4                               SUMIT KUMAR CHAURASIA                                          \n",
      "..                                                ...                                          \n",
      "58                                   HANI SINGH RAWAT                                          \n",
      "59                                      VINAY KHULBEY                                          \n",
      "60                                           Arsh Jha                                          \n",
      "61                                     HANSHIKA YADAV                                          \n",
      "62                                         YASH YADAV                                          \n",
      "\n",
      "   Spelling strictly as per Registration record in Capital Letters (Issued by R&S Branch)-FN  \\\n",
      "0                                       Father's Name                                          \n",
      "1                                        HEMANT VERMA                                          \n",
      "2                                         PAWAN KUMAR                                          \n",
      "3                                   MUKESH KUMAR RANA                                          \n",
      "4                                    GANESH CHAURASIA                                          \n",
      "..                                                ...                                          \n",
      "58                                       MAIDER SINGH                                          \n",
      "59                             RAMESH CHANDRA KHULBEY                                          \n",
      "60                                  DHANESH KUMAR JHA                                          \n",
      "61                               SURENDER SINGH YADAV                                          \n",
      "62                                                NaN                                          \n",
      "\n",
      "           Gender  Religion                 Category Aadhaar No. of Student  \\\n",
      "0   Male / Female       NaN  Gen./SC/ST/OBC / Others                    NaN   \n",
      "1            MALE  HINDUISM                      OBC           686732951051   \n",
      "2          FEMALE  HINDUISM                  GENERAL           767668026945   \n",
      "3            MALE  HINDUISM                      OBC           864325569579   \n",
      "4            MALE  HINDUISM                  GENERAL           895304009268   \n",
      "..            ...       ...                      ...                    ...   \n",
      "58           MALE  HINDUISM                  GENERAL           442840794085   \n",
      "59           MALE  HINDUISM                  GENERAL           235955871111   \n",
      "60           MALE  HINDUISM                  GENERAL           519862437910   \n",
      "61         FEMALE  HINDUISM                      OBC           505375011515   \n",
      "62            NaN       NaN                      NaN                    NaN   \n",
      "\n",
      "    Updated Mobile No. of Student            Updated E-mail ID          State  \\\n",
      "0                             NaN                          NaN            NaN   \n",
      "1                    8.882213e+09     YASH.VERMA2611@GMAIL.COM        HARYANA   \n",
      "2                    8.287842e+09        jannashin06@gmail.com  UTTAR PRADESH   \n",
      "3                    8.409298e+09     RANJANMANAS733@GMAIL.COM          BIHAR   \n",
      "4                    8.851268e+09         SUMIT29117@GMAIL.COM          DELHI   \n",
      "..                            ...                          ...            ...   \n",
      "58                   8.800444e+09      HANIRAWAT1122@GMAIL.COM        HARYANA   \n",
      "59                   8.368171e+09  SOURABHKHULBEY150@GMAIL.COM          DELHI   \n",
      "60                   9.821620e+09        ARSHJHA2003@GMAIL.COM        HARYANA   \n",
      "61                   9.717802e+09     HANSIKAYADAV24@GMAIL.COM        HARYANA   \n",
      "62                            NaN                          NaN            NaN   \n",
      "\n",
      "    Total Due Fee for Current Semester / (Previous semester if pending)  \\\n",
      "0                                                 NaN                     \n",
      "1                                                 0.0                     \n",
      "2                                                 0.0                     \n",
      "3                                                 0.0                     \n",
      "4                                                 0.0                     \n",
      "..                                                ...                     \n",
      "58                                                0.0                     \n",
      "59                                                0.0                     \n",
      "60                                                0.0                     \n",
      "61                                                0.0                     \n",
      "62                                                NaN                     \n",
      "\n",
      "    Fee Paid for Current Semester / (Previous semester if pending)  \\\n",
      "0                                                 NaN                \n",
      "1                                                 0.0                \n",
      "2                                                 0.0                \n",
      "3                                                 0.0                \n",
      "4                                                 0.0                \n",
      "..                                                ...                \n",
      "58                                                0.0                \n",
      "59                                                0.0                \n",
      "60                                                0.0                \n",
      "61                                                0.0                \n",
      "62                                                NaN                \n",
      "\n",
      "                     mentors     Unnamed: 18  \n",
      "0                        NaN             NaN  \n",
      "1            Dr SURESH KUMAR             NaN  \n",
      "2         Ms SAMEEKSHA KHARE             NaN  \n",
      "3            Dr INDU KASHYAP             NaN  \n",
      "4   Dr RAVINDRA KUMAR CHAHAR             NaN  \n",
      "..                       ...             ...  \n",
      "58   Dr URVASHI RAHUL SAXENA             NaN  \n",
      "59                 Dr SAVITA             NaN  \n",
      "60           Dr NITASHA SONI             NaN  \n",
      "61           Dr SHOBHA TYAGI             NaN  \n",
      "62           Dr MAHBOOB ALAM  MIGRATION CASE  \n",
      "\n",
      "[63 rows x 19 columns]\n"
     ]
    }
   ],
   "source": [
    "#loading dataset \n",
    "df=pd.read_excel('Student-List-Exp.xlsx')\n",
    "print (df)"
   ]
  },
  {
   "cell_type": "code",
   "execution_count": null,
   "id": "0dec7827",
   "metadata": {},
   "outputs": [],
   "source": [
    "#Rename the following columns for the shared dataset"
   ]
  },
  {
   "cell_type": "code",
   "execution_count": 41,
   "id": "c372c9c9",
   "metadata": {},
   "outputs": [
    {
     "name": "stdout",
     "output_type": "stream",
     "text": [
      "    S.No. Semester                                   Course Registration No.  \\\n",
      "0     NaN      NaN                                      NaN              NaN   \n",
      "1     1.0    5CSA1  B.Tech - Computer Science & Engineering      22/FET/0062   \n",
      "2     2.0    5CSA1  B.Tech - Computer Science & Engineering      22/FET/0063   \n",
      "3     3.0    5CSA1  B.Tech - Computer Science & Engineering      22/FET/0064   \n",
      "4     4.0    5CSA1  B.Tech - Computer Science & Engineering      22/FET/0065   \n",
      "..    ...      ...                                      ...              ...   \n",
      "58   58.0    5CSA2  B.Tech - Computer Science & Engineering      22/FET/0117   \n",
      "59   59.0    5CSA2  B.Tech - Computer Science & Engineering      22/FET/0118   \n",
      "60   60.0    5CSA1  B.Tech - Computer Science & Engineering      22/FET/0256   \n",
      "61   61.0    5CSA1  B.Tech - Computer Science & Engineering      21/SET/2097   \n",
      "62   62.0    5CSA2                                      NaN              NaN   \n",
      "\n",
      "   Admission Date          Roll No.           Student Name  \\\n",
      "0             NaN               NaN        Name of Student   \n",
      "1      29.07.2025  1/22/FET/BCS/002             YASH VERMA   \n",
      "2      29.07.2024  1/22/FET/BCS/003      KUMARI JAN NASHIN   \n",
      "3      29.07.2024  1/22/FET/BCS/004           MANAS RANJAN   \n",
      "4      29.07.2024  1/22/FET/BCS/005  SUMIT KUMAR CHAURASIA   \n",
      "..            ...               ...                    ...   \n",
      "58     29.07.2024  1/22/FET/BCS/063       HANI SINGH RAWAT   \n",
      "59     29.07.2024  1/22/FET/BCS/064          VINAY KHULBEY   \n",
      "60     29.07.2024  1/22/FET/BCS/434               Arsh Jha   \n",
      "61     29.07.2025  1/21/FET/BCS/063         HANSHIKA YADAV   \n",
      "62            NaN      12401005M002             YASH YADAV   \n",
      "\n",
      "               Father Name         Gender  Religion                 Category  \\\n",
      "0            Father's Name  Male / Female       NaN  Gen./SC/ST/OBC / Others   \n",
      "1             HEMANT VERMA           MALE  HINDUISM                      OBC   \n",
      "2              PAWAN KUMAR         FEMALE  HINDUISM                  GENERAL   \n",
      "3        MUKESH KUMAR RANA           MALE  HINDUISM                      OBC   \n",
      "4         GANESH CHAURASIA           MALE  HINDUISM                  GENERAL   \n",
      "..                     ...            ...       ...                      ...   \n",
      "58            MAIDER SINGH           MALE  HINDUISM                  GENERAL   \n",
      "59  RAMESH CHANDRA KHULBEY           MALE  HINDUISM                  GENERAL   \n",
      "60       DHANESH KUMAR JHA           MALE  HINDUISM                  GENERAL   \n",
      "61    SURENDER SINGH YADAV         FEMALE  HINDUISM                      OBC   \n",
      "62                     NaN            NaN       NaN                      NaN   \n",
      "\n",
      "     Aadhaar No.    Mobile No.                    E-Mail ID          State  \\\n",
      "0            NaN           NaN                          NaN            NaN   \n",
      "1   686732951051  8.882213e+09     YASH.VERMA2611@GMAIL.COM        HARYANA   \n",
      "2   767668026945  8.287842e+09        jannashin06@gmail.com  UTTAR PRADESH   \n",
      "3   864325569579  8.409298e+09     RANJANMANAS733@GMAIL.COM          BIHAR   \n",
      "4   895304009268  8.851268e+09         SUMIT29117@GMAIL.COM          DELHI   \n",
      "..           ...           ...                          ...            ...   \n",
      "58  442840794085  8.800444e+09      HANIRAWAT1122@GMAIL.COM        HARYANA   \n",
      "59  235955871111  8.368171e+09  SOURABHKHULBEY150@GMAIL.COM          DELHI   \n",
      "60  519862437910  9.821620e+09        ARSHJHA2003@GMAIL.COM        HARYANA   \n",
      "61  505375011515  9.717802e+09     HANSIKAYADAV24@GMAIL.COM        HARYANA   \n",
      "62           NaN           NaN                          NaN            NaN   \n",
      "\n",
      "    Due Fee Pending  Fee Paid Pending                   mentors  \\\n",
      "0               NaN               NaN                       NaN   \n",
      "1               0.0               0.0           Dr SURESH KUMAR   \n",
      "2               0.0               0.0        Ms SAMEEKSHA KHARE   \n",
      "3               0.0               0.0           Dr INDU KASHYAP   \n",
      "4               0.0               0.0  Dr RAVINDRA KUMAR CHAHAR   \n",
      "..              ...               ...                       ...   \n",
      "58              0.0               0.0   Dr URVASHI RAHUL SAXENA   \n",
      "59              0.0               0.0                 Dr SAVITA   \n",
      "60              0.0               0.0           Dr NITASHA SONI   \n",
      "61              0.0               0.0           Dr SHOBHA TYAGI   \n",
      "62              NaN               NaN           Dr MAHBOOB ALAM   \n",
      "\n",
      "       Unnamed: 18  \n",
      "0              NaN  \n",
      "1              NaN  \n",
      "2              NaN  \n",
      "3              NaN  \n",
      "4              NaN  \n",
      "..             ...  \n",
      "58             NaN  \n",
      "59             NaN  \n",
      "60             NaN  \n",
      "61             NaN  \n",
      "62  MIGRATION CASE  \n",
      "\n",
      "[63 rows x 19 columns]\n"
     ]
    }
   ],
   "source": [
    "df = df.rename(columns={\n",
    "    \"Branch /Course\": \"Course\",\n",
    "    \"University Registration No. (Issued by R&S Branch)\": \"Registration No.\",\n",
    "    \"Date of Admission in the Present Class/Course\": \"Admission Date\",\n",
    "    \"Spelling strictly as per Registration record in Capital Letters (Issued by R&S Branch)-SN\": \"Student Name\",\n",
    "    \"Spelling strictly as per Registration record in Capital Letters (Issued by R&S Branch)-FN\": \"Father Name\",\n",
    "    \"Aadhaar No. of Student\": \"Aadhaar No.\",\n",
    "    \"Updated Mobile No. of Student\": \"Mobile No.\",\n",
    "    \"Updated E-mail ID\": \"E-Mail ID\",\n",
    "    \"Total Due Fee for Current Semester / (Previous semester if pending)\": \"Due Fee Pending\",\n",
    "    \"Fee Paid for Current Semester / (Previous semester if pending)\": \"Fee Paid Pending\"\n",
    "})\n",
    "\n",
    "# Print the updated DataFrame\n",
    "print(df)\n"
   ]
  },
  {
   "cell_type": "code",
   "execution_count": null,
   "id": "d31d2e8a",
   "metadata": {},
   "outputs": [],
   "source": [
    "#Printing the Number of rows and columns"
   ]
  },
  {
   "cell_type": "code",
   "execution_count": 42,
   "id": "be5837d2",
   "metadata": {},
   "outputs": [
    {
     "name": "stdout",
     "output_type": "stream",
     "text": [
      "Rows : 63 , columns: 19\n"
     ]
    }
   ],
   "source": [
    "num_row,num_col=df.shape\n",
    "print(f\"Rows : {num_row} , columns: {num_col}\")"
   ]
  },
  {
   "cell_type": "code",
   "execution_count": null,
   "id": "fa4ed88a",
   "metadata": {},
   "outputs": [],
   "source": [
    "#Calculating the no. of males and female students"
   ]
  },
  {
   "cell_type": "code",
   "execution_count": 43,
   "id": "c95866c1",
   "metadata": {},
   "outputs": [
    {
     "name": "stdout",
     "output_type": "stream",
     "text": [
      "Gender\n",
      "MALE             48\n",
      "FEMALE           13\n",
      "Male / Female     1\n",
      "Name: count, dtype: int64\n"
     ]
    }
   ],
   "source": [
    "num=df['Gender'].value_counts()\n",
    "print(num)"
   ]
  },
  {
   "cell_type": "code",
   "execution_count": null,
   "id": "c35e6047",
   "metadata": {},
   "outputs": [],
   "source": [
    "#calculating the number of students based on different states"
   ]
  },
  {
   "cell_type": "code",
   "execution_count": 44,
   "id": "f605d3de",
   "metadata": {},
   "outputs": [
    {
     "name": "stdout",
     "output_type": "stream",
     "text": [
      "State\n",
      "HARYANA          33\n",
      "DELHI            12\n",
      "BIHAR             6\n",
      "UP                2\n",
      "UTTAR PRADESH     1\n",
      "RAJASTHAN         1\n",
      "Haryana           1\n",
      "0                 1\n",
      "NEPAL             1\n",
      "ODISHA            1\n",
      "West Bengal       1\n",
      "Name: count, dtype: int64\n"
     ]
    }
   ],
   "source": [
    "num=df['State'].value_counts()\n",
    "print(num)"
   ]
  },
  {
   "cell_type": "code",
   "execution_count": null,
   "id": "882867be",
   "metadata": {},
   "outputs": [],
   "source": [
    "#Calculate the no. of students of based on category"
   ]
  },
  {
   "cell_type": "code",
   "execution_count": 45,
   "id": "663093db",
   "metadata": {},
   "outputs": [
    {
     "name": "stdout",
     "output_type": "stream",
     "text": [
      "Category\n",
      "GENERAL                    48\n",
      "OBC                        13\n",
      "Gen./SC/ST/OBC / Others     1\n",
      "Name: count, dtype: int64\n"
     ]
    }
   ],
   "source": [
    "num=df['Category'].value_counts()\n",
    "print(num)"
   ]
  },
  {
   "cell_type": "code",
   "execution_count": null,
   "id": "fe9496ed",
   "metadata": {},
   "outputs": [],
   "source": [
    "#count the number of students having null values in features"
   ]
  },
  {
   "cell_type": "code",
   "execution_count": 46,
   "id": "dd055eaa",
   "metadata": {},
   "outputs": [
    {
     "name": "stdout",
     "output_type": "stream",
     "text": [
      "S.No.                1\n",
      "Semester             1\n",
      "Course               2\n",
      "Registration No.     2\n",
      "Admission Date       2\n",
      "Roll No.             1\n",
      "Student Name         0\n",
      "Father Name          2\n",
      "Gender               1\n",
      "Religion             2\n",
      "Category             1\n",
      "Aadhaar No.          3\n",
      "Mobile No.           2\n",
      "E-Mail ID            2\n",
      "State                3\n",
      "Due Fee Pending      2\n",
      "Fee Paid Pending     4\n",
      "mentors              1\n",
      "Unnamed: 18         62\n",
      "dtype: int64\n"
     ]
    }
   ],
   "source": [
    "num=df.isnull().sum()\n",
    "print(num)"
   ]
  },
  {
   "cell_type": "code",
   "execution_count": null,
   "id": "3e47784c",
   "metadata": {},
   "outputs": [],
   "source": [
    "# List of students pending dues"
   ]
  },
  {
   "cell_type": "code",
   "execution_count": 47,
   "id": "120997d2",
   "metadata": {},
   "outputs": [
    {
     "name": "stdout",
     "output_type": "stream",
     "text": [
      "      Student Name  Due Fee Pending\n",
      "15     HARSH SINGH         93999.72\n",
      "24  ASHUTOSH KUMAR        277000.00\n",
      "39      PIYUSH RAJ        106520.00\n"
     ]
    }
   ],
   "source": [
    "result=df[(df['Due Fee Pending'].notnull()) & (df['Due Fee Pending']>0)]\n",
    "result=result[['Student Name','Due Fee Pending']]\n",
    "print(result)"
   ]
  },
  {
   "cell_type": "code",
   "execution_count": null,
   "id": "b901ad86",
   "metadata": {},
   "outputs": [],
   "source": [
    "#Print the Name, Roll number and Mentor name of each Students"
   ]
  },
  {
   "cell_type": "code",
   "execution_count": 48,
   "id": "b32b0d24",
   "metadata": {},
   "outputs": [
    {
     "name": "stdout",
     "output_type": "stream",
     "text": [
      "            Roll No.           Student Name                   mentors\n",
      "0                NaN        Name of Student                       NaN\n",
      "1   1/22/FET/BCS/002             YASH VERMA           Dr SURESH KUMAR\n",
      "2   1/22/FET/BCS/003      KUMARI JAN NASHIN        Ms SAMEEKSHA KHARE\n",
      "3   1/22/FET/BCS/004           MANAS RANJAN           Dr INDU KASHYAP\n",
      "4   1/22/FET/BCS/005  SUMIT KUMAR CHAURASIA  Dr RAVINDRA KUMAR CHAHAR\n",
      "..               ...                    ...                       ...\n",
      "58  1/22/FET/BCS/063       HANI SINGH RAWAT   Dr URVASHI RAHUL SAXENA\n",
      "59  1/22/FET/BCS/064          VINAY KHULBEY                 Dr SAVITA\n",
      "60  1/22/FET/BCS/434               Arsh Jha           Dr NITASHA SONI\n",
      "61  1/21/FET/BCS/063         HANSHIKA YADAV           Dr SHOBHA TYAGI\n",
      "62      12401005M002             YASH YADAV           Dr MAHBOOB ALAM\n",
      "\n",
      "[63 rows x 3 columns]\n"
     ]
    }
   ],
   "source": [
    "data=df[['Roll No.','Student Name','mentors']]\n",
    "print(data)"
   ]
  },
  {
   "cell_type": "code",
   "execution_count": null,
   "id": "90e75124",
   "metadata": {},
   "outputs": [],
   "source": [
    "#Print number of students having null aadhaar value"
   ]
  },
  {
   "cell_type": "code",
   "execution_count": 49,
   "id": "93c3d698",
   "metadata": {
    "scrolled": true
   },
   "outputs": [
    {
     "name": "stdout",
     "output_type": "stream",
     "text": [
      "0     Name of Student\n",
      "7            ABHISHEK\n",
      "62         YASH YADAV\n",
      "Name: Student Name, dtype: object\n"
     ]
    }
   ],
   "source": [
    "data=df[df['Aadhaar No.'].isnull()]\n",
    "print(data['Student Name'])"
   ]
  },
  {
   "cell_type": "code",
   "execution_count": null,
   "id": "726b534f",
   "metadata": {},
   "outputs": [],
   "source": [
    "#writing data to excel file"
   ]
  },
  {
   "cell_type": "code",
   "execution_count": 54,
   "id": "4bf830c3",
   "metadata": {},
   "outputs": [],
   "source": [
    "df.to_excel('data.xlsx')"
   ]
  }
 ],
 "metadata": {
  "kernelspec": {
   "display_name": "Python 3 (ipykernel)",
   "language": "python",
   "name": "python3"
  },
  "language_info": {
   "codemirror_mode": {
    "name": "ipython",
    "version": 3
   },
   "file_extension": ".py",
   "mimetype": "text/x-python",
   "name": "python",
   "nbconvert_exporter": "python",
   "pygments_lexer": "ipython3",
   "version": "3.11.5"
  }
 },
 "nbformat": 4,
 "nbformat_minor": 5
}
