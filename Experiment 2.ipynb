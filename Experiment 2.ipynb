{
 "cells": [
  {
   "cell_type": "code",
   "execution_count": 1,
   "id": "67ccaca4",
   "metadata": {},
   "outputs": [],
   "source": [
    "import numpy as np\n",
    "#creating 1d and 2d array"
   ]
  },
  {
   "cell_type": "code",
   "execution_count": 2,
   "id": "67ccaca5",
   "metadata": {},
   "outputs": [
    {
     "name": "stdout",
     "output_type": "stream",
     "text": [
      "Ayush Garg\n",
      "1/22/FET/BCS/162"
     ]
    }
   ],
   "source": [
    "print("Ayush Garg")",
    "print("1/22/FET/BCS/162")"
   ]
  },
  {
   "cell_type": "code",
   "execution_count": 3,
   "id": "42b6eeb7",
   "metadata": {},
   "outputs": [
    {
     "name": "stdout",
     "output_type": "stream",
     "text": [
      "[1 2 3 4 5]\n"
     ]
    }
   ],
   "source": [
    "arr=np.array([1,2,3,4,5])\n",
    "print(arr)"
   ]
  },
  {
   "cell_type": "code",
   "execution_count": 5,
   "id": "d970fda5",
   "metadata": {},
   "outputs": [
    {
     "name": "stdout",
     "output_type": "stream",
     "text": [
      "[[0. 0. 0.]\n",
      " [0. 0. 0.]\n",
      " [0. 0. 0.]]\n"
     ]
    }
   ],
   "source": [
    "arr=np.zeros((3,3))\n",
    "print(arr)"
   ]
  },
  {
   "cell_type": "code",
   "execution_count": 6,
   "id": "3b47319e",
   "metadata": {},
   "outputs": [
    {
     "name": "stdout",
     "output_type": "stream",
     "text": [
      "[[1. 1. 1.]\n",
      " [1. 1. 1.]\n",
      " [1. 1. 1.]]\n"
     ]
    }
   ],
   "source": [
    "arr=np.ones((3,3))\n",
    "print(arr)"
   ]
  },
  {
   "cell_type": "code",
   "execution_count": 7,
   "id": "4a146652",
   "metadata": {},
   "outputs": [
    {
     "name": "stdout",
     "output_type": "stream",
     "text": [
      "[0 1 2 3 4 5 6 7 8 9]\n"
     ]
    }
   ],
   "source": [
    "arr=np.arange(0,10,1)\n",
    "print(arr)"
   ]
  },
  {
   "cell_type": "code",
   "execution_count": 8,
   "id": "04f377c0",
   "metadata": {},
   "outputs": [],
   "source": [
    "#Array indexing and slicing"
   ]
  },
  {
   "cell_type": "code",
   "execution_count": 10,
   "id": "f64be5f8",
   "metadata": {},
   "outputs": [],
   "source": [
    "#indexing"
   ]
  },
  {
   "cell_type": "code",
   "execution_count": 14,
   "id": "f0805b39",
   "metadata": {},
   "outputs": [
    {
     "name": "stdout",
     "output_type": "stream",
     "text": [
      "1\n"
     ]
    }
   ],
   "source": [
    "print(arr[1])"
   ]
  },
  {
   "cell_type": "code",
   "execution_count": 15,
   "id": "d16886d5",
   "metadata": {},
   "outputs": [],
   "source": [
    "#slicing"
   ]
  },
  {
   "cell_type": "code",
   "execution_count": 17,
   "id": "4e010cf1",
   "metadata": {},
   "outputs": [
    {
     "name": "stdout",
     "output_type": "stream",
     "text": [
      "[0 1 2]\n"
     ]
    }
   ],
   "source": [
    "print(arr[:3])"
   ]
  },
  {
   "cell_type": "code",
   "execution_count": 18,
   "id": "e06e0315",
   "metadata": {},
   "outputs": [
    {
     "name": "stdout",
     "output_type": "stream",
     "text": [
      "[6 7 8 9]\n"
     ]
    }
   ],
   "source": [
    "print(arr[arr>5])"
   ]
  },
  {
   "cell_type": "code",
   "execution_count": 19,
   "id": "d185c2db",
   "metadata": {},
   "outputs": [],
   "source": [
    "#Mathematical operations of arrays"
   ]
  },
  {
   "cell_type": "code",
   "execution_count": 22,
   "id": "080cc910",
   "metadata": {},
   "outputs": [
    {
     "name": "stdout",
     "output_type": "stream",
     "text": [
      "arr1 =  [0 1 2 3 4 5 6 7 8 9]\n",
      "arr2 =  [ 0  2  4  6  8 10 12 14 16 18]\n",
      "[ 0  3  6  9 12 15 18 21 24 27]\n"
     ]
    }
   ],
   "source": [
    "arr1=np.arange(0,10,1)\n",
    "print(\"arr1 = \",arr1)\n",
    "arr2=np.arange(0,20,2)\n",
    "print(\"arr2 = \",arr2)\n",
    "print(arr1+arr2)"
   ]
  },
  {
   "cell_type": "code",
   "execution_count": 23,
   "id": "fb80ab3e",
   "metadata": {},
   "outputs": [
    {
     "name": "stdout",
     "output_type": "stream",
     "text": [
      "[ 0 -1 -2 -3 -4 -5 -6 -7 -8 -9]\n"
     ]
    }
   ],
   "source": [
    "print(arr1-arr2)"
   ]
  },
  {
   "cell_type": "code",
   "execution_count": 24,
   "id": "cfb07dcf",
   "metadata": {},
   "outputs": [
    {
     "name": "stdout",
     "output_type": "stream",
     "text": [
      "[  0   2   8  18  32  50  72  98 128 162]\n"
     ]
    }
   ],
   "source": [
    "print(arr1*arr2)"
   ]
  },
  {
   "cell_type": "code",
   "execution_count": 25,
   "id": "75e46cd5",
   "metadata": {},
   "outputs": [
    {
     "name": "stdout",
     "output_type": "stream",
     "text": [
      "[nan 0.5 0.5 0.5 0.5 0.5 0.5 0.5 0.5 0.5]\n"
     ]
    }
   ],
   "source": [
    "print(arr1/arr2)"
   ]
  },
  {
   "cell_type": "code",
   "execution_count": 26,
   "id": "7adfb52d",
   "metadata": {},
   "outputs": [
    {
     "name": "stdout",
     "output_type": "stream",
     "text": [
      "[          1           1          16         729       65536     9765625\n",
      " -2118184960  -381759919           0 -1953380655]\n"
     ]
    }
   ],
   "source": [
    "print(arr1**arr2)"
   ]
  },
  {
   "cell_type": "code",
   "execution_count": 27,
   "id": "04c16fbf",
   "metadata": {},
   "outputs": [
    {
     "name": "stdout",
     "output_type": "stream",
     "text": [
      "45\n"
     ]
    }
   ],
   "source": [
    "print(\"Sum of arr1 = \",np.sum(arr1))"
   ]
  },
  {
   "cell_type": "code",
   "execution_count": 28,
   "id": "9f8e23f6",
   "metadata": {},
   "outputs": [
    {
     "name": "stdout",
     "output_type": "stream",
     "text": [
      "Mean of arr1 =  4.5\n"
     ]
    }
   ],
   "source": [
    "print(\"Mean of arr1 = \",np.mean(arr1))"
   ]
  },
  {
   "cell_type": "code",
   "execution_count": 29,
   "id": "6a02c563",
   "metadata": {},
   "outputs": [
    {
     "name": "stdout",
     "output_type": "stream",
     "text": [
      "Standard deviation of arr =  2.8722813232690143\n"
     ]
    }
   ],
   "source": [
    "print(\"Standard deviation of arr = \",np.std(arr1))"
   ]
  },
  {
   "cell_type": "code",
   "execution_count": null,
   "id": "0763e309",
   "metadata": {},
   "outputs": [],
   "source": [
    "#Matrix operations"
   ]
  },
  {
   "cell_type": "code",
   "execution_count": 35,
   "id": "6c36a278",
   "metadata": {},
   "outputs": [
    {
     "name": "stdout",
     "output_type": "stream",
     "text": [
      "Matrix Multiplication is \n",
      " [[-23  27 -17]\n",
      " [-96 -47  -8]\n",
      " [ 23 -71  58]]\n"
     ]
    }
   ],
   "source": [
    "mat1=np.array([[-2,5,1],[0,8,-7],[9,-4,-3]])\n",
    "mat2=np.array([[3,-4,6],[-5,2,-1],[8,9,0]])\n",
    "print(\"Matrix Multiplication is \\n\",mat1.dot(mat2))"
   ]
  },
  {
   "cell_type": "code",
   "execution_count": 36,
   "id": "0d17f7b2",
   "metadata": {},
   "outputs": [
    {
     "name": "stdout",
     "output_type": "stream",
     "text": [
      "Matrix Transpose is \n",
      " [[-2  0  9]\n",
      " [ 5  8 -4]\n",
      " [ 1 -7 -3]]\n"
     ]
    }
   ],
   "source": [
    "print(\"Matrix Transpose is \\n\",mat1.T)"
   ]
  },
  {
   "cell_type": "code",
   "execution_count": null,
   "id": "1b705399",
   "metadata": {},
   "outputs": [],
   "source": [
    "#Generating random uniforn and integers value \nand ploting a histogram of it"
   ]
  },
  {
   "cell_type": "code",
   "execution_count": 42,
   "id": "84c606c1",
   "metadata": {},
   "outputs": [
    {
     "name": "stdout",
     "output_type": "stream",
     "text": [
      "Uniform Distribution Data\n",
      " [5.12194507e+00 4.09095256e+00 8.42925848e+00 9.09896186e+00\n",
      " 1.62534324e+00 8.08131314e+00 6.94061780e+00 1.48842583e+00\n",
      " 2.29872471e+00 2.36269445e+00 2.52306736e+00 6.74038094e+00\n",
      " 2.32546362e+00 3.54660755e+00 1.61856633e+00 5.69964002e+00\n",
      " 1.47624524e+00 6.54556052e+00 8.81527061e+00 9.01586262e+00\n",
      " 6.62386629e+00 5.26874825e-01 3.52241548e+00 3.25749016e+00\n",
      " 9.27393073e-02 1.34816629e+00 2.82982541e+00 9.58076742e+00\n",
      " 6.02220150e-01 8.34269398e+00 2.70704184e+00 9.61030428e+00\n",
      " 1.67247432e+00 7.54494108e+00 3.68609333e+00 4.46847561e+00\n",
      " 8.24164741e+00 3.02921851e+00 6.19570701e+00 9.76894475e+00\n",
      " 4.01788575e+00 8.10718919e+00 4.45790013e+00 2.97717113e+00\n",
      " 1.74125477e+00 5.39139916e-01 9.52740156e-01 4.03147312e+00\n",
      " 4.74851319e+00 1.88351011e+00 3.98481042e-01 4.59374666e+00\n",
      " 5.48658825e+00 6.21089214e+00 6.09052574e+00 2.07297768e+00\n",
      " 6.86536983e+00 2.69231166e+00 1.33322516e+00 9.99165411e-01\n",
      " 9.98642461e+00 1.20723018e+00 1.79351086e+00 5.26041283e+00\n",
      " 2.96258043e+00 9.13494066e+00 3.63545527e+00 5.47961191e+00\n",
      " 3.97381971e+00 6.01859252e+00 5.74766605e+00 4.77269880e+00\n",
      " 5.61336805e+00 3.56153828e+00 1.88986444e+00 8.55818852e+00\n",
      " 4.02090901e+00 1.45140692e+00 4.04612953e+00 2.72528290e+00\n",
      " 2.81710320e+00 3.05868058e+00 4.46391082e+00 4.95374085e-01\n",
      " 5.86092554e+00 2.07117586e+00 1.98863374e-01 6.26130135e+00\n",
      " 8.03549266e+00 7.98957332e+00 1.99525800e+00 6.34465243e+00\n",
      " 3.47234617e-02 1.31382753e+00 2.68541869e+00 2.08358070e+00\n",
      " 5.23953652e+00 4.97149477e+00 2.04255710e+00 4.37541649e+00\n",
      " 3.24485863e+00 5.23058420e-01 3.38428403e+00 3.51386512e+00\n",
      " 4.06296943e+00 9.63187889e+00 6.56895755e+00 9.23152626e+00\n",
      " 6.02818955e+00 2.86203091e+00 1.01084764e+00 3.63370373e+00\n",
      " 2.61370379e+00 8.33994965e-01 5.42055531e+00 3.41561532e+00\n",
      " 3.60622830e+00 1.44253830e+00 8.66235002e+00 8.34510100e+00\n",
      " 7.45462355e-01 9.30731981e+00 2.87480295e+00 4.41627129e+00\n",
      " 9.54122843e+00 4.33661463e+00 1.04987561e+00 6.32170697e+00\n",
      " 4.86726394e+00 1.39752697e+00 5.02656414e+00 8.15007262e+00\n",
      " 5.92389715e-01 4.99389466e+00 4.51018381e+00 8.86673506e+00\n",
      " 5.74414125e+00 9.50905727e+00 9.34617589e+00 9.88751024e+00\n",
      " 3.51123636e+00 2.19219699e+00 7.15525427e+00 4.65629575e+00\n",
      " 9.88632687e+00 7.03059198e+00 4.34191583e+00 8.25471640e+00\n",
      " 6.72994166e+00 3.91574403e-01 6.11336555e+00 8.60762491e+00\n",
      " 8.88431479e+00 3.23576797e+00 3.90219430e+00 7.95957185e+00\n",
      " 6.49326893e+00 1.09677213e+00 2.78384467e+00 9.36359820e+00\n",
      " 1.74661636e+00 3.26028857e+00 2.50745635e+00 2.59361467e+00\n",
      " 9.65499856e+00 1.81776678e+00 9.87368932e+00 6.19723601e+00\n",
      " 8.17680626e+00 5.09543784e+00 6.99162721e+00 5.21430158e+00\n",
      " 2.38068139e+00 2.26035210e+00 6.14136886e+00 5.33189615e+00\n",
      " 5.27544369e+00 9.58071743e+00 6.61591287e+00 9.00699971e+00\n",
      " 6.52411267e+00 4.07418300e+00 5.19953709e+00 2.05884030e+00\n",
      " 1.04392082e+00 2.88887807e+00 6.54921826e+00 8.16808154e+00\n",
      " 3.56509571e+00 5.78300554e+00 6.35515229e+00 6.28245970e-01\n",
      " 8.61574098e+00 8.23447537e+00 5.56209128e+00 5.65139766e+00\n",
      " 9.89707328e+00 5.21033768e+00 6.55489536e+00 1.26372903e+00\n",
      " 1.36591847e+00 8.87037289e+00 4.89966443e+00 3.22939537e+00\n",
      " 3.21718356e+00 5.34523342e+00 3.53655985e+00 8.39935323e+00\n",
      " 2.57123157e-01 1.58770375e+00 4.90291059e+00 7.06401379e+00\n",
      " 1.97498259e+00 8.76184039e+00 1.47683649e+00 2.58262768e+00\n",
      " 3.31167085e+00 5.35632953e+00 1.11807186e+00 2.34787469e+00\n",
      " 5.80783502e+00 3.57855439e+00 9.63336447e+00 9.45106411e-01\n",
      " 5.23187455e-01 6.33430002e+00 4.77747685e+00 4.79660172e+00\n",
      " 9.08464719e-02 4.02747709e+00 8.11144940e+00 3.96641786e-01\n",
      " 5.74378811e-01 4.05873045e+00 5.04016398e+00 3.94708476e+00\n",
      " 2.49085998e+00 1.63316880e+00 2.01221616e+00 9.78981837e+00\n",
      " 3.46076058e+00 5.45514862e+00 5.55649842e+00 9.83333412e+00\n",
      " 8.73143416e+00 9.37557950e+00 8.09686975e+00 8.12800251e+00\n",
      " 2.68695655e+00 7.62700666e+00 5.53960662e+00 2.58570584e+00\n",
      " 7.07241880e+00 6.23793228e+00 1.53232085e-01 5.30664574e+00\n",
      " 6.98553640e+00 2.82362338e+00 4.00328091e+00 9.78396450e+00\n",
      " 9.33956999e+00 6.07179309e-03 5.15093706e+00 2.33771755e+00\n",
      " 2.06131009e+00 8.03356232e+00 3.37710444e-01 6.21893340e+00\n",
      " 7.69892536e+00 8.66067899e+00 6.39746375e+00 4.20850018e+00\n",
      " 6.03491512e+00 7.14095406e-01 7.96264433e+00 5.04974912e+00\n",
      " 5.62359356e-01 4.35147524e+00 9.90225612e+00 2.93152213e+00\n",
      " 2.34154393e-01 7.48019647e+00 2.30794367e+00 4.85300308e+00\n",
      " 1.92297962e+00 6.08938030e+00 1.19604705e+00 6.80907737e+00\n",
      " 2.10385217e+00 6.06557318e+00 3.85796421e+00 4.88359618e+00\n",
      " 4.10555798e+00 4.33743989e+00 4.22996546e+00 5.94684506e+00\n",
      " 3.84954254e+00 1.16187819e+00 7.29869394e+00 8.68530633e+00\n",
      " 1.17824989e+00 2.61874285e+00 6.78445415e+00 6.98166031e+00\n",
      " 5.61275036e+00 4.88613931e+00 2.79323577e+00 1.95950662e+00\n",
      " 4.70253199e+00 6.36748887e+00 3.15311254e+00 4.72108962e+00\n",
      " 5.22524267e+00 9.26001282e+00 3.19332486e+00 1.24242122e+00\n",
      " 1.27987540e+00 5.42861210e+00 9.71645202e+00 7.74464109e+00\n",
      " 4.01721733e+00 5.77514488e-01 1.66396743e+00 3.39657449e+00\n",
      " 6.69248999e+00 7.54680804e+00 3.23032159e+00 6.22936404e+00\n",
      " 5.33154156e-01 6.38638284e+00 2.92797164e+00 1.71135248e+00\n",
      " 9.43107561e+00 6.33555934e+00 3.81239827e+00 5.33952765e-01\n",
      " 2.23985560e+00 7.13650060e+00 5.14574162e+00 1.45023753e+00\n",
      " 3.16156192e+00 1.36201056e-03 5.69778908e+00 5.51016484e+00\n",
      " 1.17845069e-01 5.92974387e+00 6.94657151e+00 4.58143821e+00\n",
      " 7.20627439e+00 2.20641884e+00 3.31032711e+00 5.81265172e+00\n",
      " 7.80293518e+00 1.82538176e+00 2.14090269e+00 1.41523016e+00\n",
      " 4.88256490e+00 7.33015438e+00 3.43078587e+00 3.83218170e+00\n",
      " 6.15210322e+00 7.78252095e+00 3.36337688e+00 9.80299871e+00\n",
      " 9.89329380e-01 7.19236029e+00 2.67653615e+00 3.59600533e+00\n",
      " 9.38017286e+00 5.60749173e+00 1.28289419e+00 8.34059098e+00\n",
      " 2.22723943e+00 6.45609785e-01 2.25960558e+00 4.09396734e+00\n",
      " 5.92969960e+00 5.08054391e+00 9.77201808e+00 1.83982155e+00\n",
      " 5.85757358e+00 8.39973229e-01 6.74405229e+00 5.94746911e+00\n",
      " 3.21676027e+00 4.86489089e+00 9.42620842e-01 5.35471214e+00\n",
      " 5.43999014e+00 1.78857352e+00 2.59498990e+00 4.52435236e-01\n",
      " 2.37497276e+00 5.47751252e+00 7.37740179e+00 9.18173868e+00\n",
      " 2.07311563e+00 6.97801272e+00 8.91303832e-01 1.10401865e+00\n",
      " 4.51212170e+00 9.76001992e+00 4.65042307e+00 2.15896215e+00\n",
      " 7.92639836e+00 6.31338322e+00 3.79110138e+00 9.67715709e-02\n",
      " 8.34772212e-01 2.27677099e+00 5.47965750e+00 4.63809171e+00\n",
      " 8.66981811e+00 4.79702561e-01 9.17378925e-01 9.92602474e+00\n",
      " 3.03723503e+00 2.67913721e+00 8.37912527e+00 6.52906885e+00\n",
      " 1.81399319e+00 7.74897672e+00 1.93937116e+00 4.70155908e+00\n",
      " 9.40177104e+00 5.83659565e-01 4.59926929e+00 4.75125424e-01\n",
      " 9.83246929e+00 1.80997662e+00 1.27720420e+00 9.60538436e+00\n",
      " 3.17340160e+00 8.76500648e+00 3.46561822e+00 1.94657514e+00\n",
      " 2.71996617e+00 7.28739398e+00 2.17568734e+00 9.79650792e+00\n",
      " 1.17358193e+00 3.93756757e+00 1.50042880e-01 2.86443267e+00\n",
      " 6.82012773e-01 8.42065673e+00 8.52844890e+00 7.48768816e-01\n",
      " 4.20882615e+00 6.87918048e+00 8.88480167e+00 3.17529709e+00\n",
      " 1.16590530e+00 8.28863873e+00 1.93541742e+00 7.12663747e+00\n",
      " 8.63061224e+00 2.40525071e+00 8.34599340e+00 5.99617634e+00\n",
      " 2.59390027e+00 3.55404490e+00 3.85983739e+00 1.29823538e+00\n",
      " 5.73332133e-01 1.81346378e+00 8.55740665e+00 4.65368217e-01\n",
      " 3.45135187e+00 8.90773119e+00 3.86792678e+00 4.42408199e+00\n",
      " 4.78771590e+00 2.67214452e+00 1.75945035e-01 9.85595944e+00\n",
      " 5.40370595e+00 2.32799591e+00 8.87947055e+00 2.20608202e+00\n",
      " 8.20936639e+00 5.74560266e+00 1.36802363e+00 2.54152200e+00\n",
      " 3.00100958e+00 5.89605654e+00 3.49178809e+00 8.77524415e+00\n",
      " 9.25602348e+00 9.50406669e+00 4.21943453e+00 1.12455406e+00\n",
      " 1.62607829e+00 4.23903937e+00 7.89804586e+00 9.44178779e+00\n",
      " 6.73127374e+00 5.85465576e+00 3.41338341e+00 8.83005586e+00\n",
      " 2.20808126e-01 2.57283768e+00 5.13324529e+00 2.01973616e+00\n",
      " 1.97756752e+00 5.55779017e+00 2.93605927e+00 4.36486752e+00\n",
      " 3.80073791e+00 4.27793992e-01 4.07089980e+00 7.38177489e+00\n",
      " 8.42057564e+00 8.33501227e+00 9.74972421e+00 7.11088843e+00\n",
      " 4.51379866e+00 6.63052582e+00 5.33031898e-01 1.08580480e+00\n",
      " 6.61985973e+00 4.64516132e+00 4.89755792e+00 1.82348472e+00\n",
      " 5.27527811e+00 7.81145945e+00 8.86140660e+00 7.07090030e+00\n",
      " 9.45689946e+00 2.54968960e+00 5.57532033e+00 6.93723611e-01\n",
      " 8.25018904e+00 4.77915536e+00 7.88058141e+00 8.77851508e+00\n",
      " 5.47372368e+00 2.37021787e+00 9.93756978e+00 1.65835282e+00\n",
      " 5.96131381e+00 5.50809576e+00 6.30597897e+00 9.93601199e+00\n",
      " 9.17844547e+00 8.46256378e+00 1.19674350e+00 2.57677271e+00\n",
      " 3.98833898e+00 1.00949656e+00 6.90442727e-01 7.52371742e+00\n",
      " 7.36422538e+00 3.69121214e+00 1.55081802e+00 2.74573099e-01\n",
      " 2.84336939e+00 5.45384884e-02 2.08031073e+00 7.07658344e+00\n",
      " 2.55796517e+00 1.98331807e+00 5.85602370e+00 4.00976304e+00\n",
      " 5.72932162e+00 8.89697420e+00 3.63577748e+00 4.80850105e+00\n",
      " 1.25271899e+00 2.90981356e+00 6.42678023e+00 2.53322549e+00\n",
      " 6.06848120e+00 3.71606786e+00 6.30779121e-01 4.92955767e+00\n",
      " 7.68047000e+00 1.78074116e+00 7.96585129e+00 6.51746428e-01\n",
      " 8.38491019e+00 2.09478249e-01 7.53698173e+00 1.64755759e+00\n",
      " 6.39144250e+00 8.02825555e-01 9.51198834e+00 2.29108681e-02\n",
      " 7.18050957e-01 7.44404625e-01 9.32147799e-01 4.02093946e+00\n",
      " 8.87709607e+00 9.18934298e+00 2.64491454e+00 3.78540111e-01\n",
      " 8.03092364e+00 8.13141546e+00 1.96423423e-01 3.04078950e+00\n",
      " 6.70490000e+00 8.39247559e+00 1.43712518e+00 9.04730170e-01\n",
      " 8.78021853e-01 9.74697723e+00 3.06262795e+00 6.31579219e+00\n",
      " 9.68908130e+00 3.54356229e+00 4.50521269e+00 7.82040983e+00\n",
      " 1.04332454e+00 9.76940437e+00 8.03350020e-01 6.55024585e+00\n",
      " 6.80274024e+00 9.65815955e+00 6.49854340e+00 8.77612408e+00\n",
      " 2.71091659e+00 3.68538578e+00 3.48974864e+00 5.98254808e+00\n",
      " 5.82788436e+00 1.16806264e+00 6.33355616e+00 4.17061642e+00\n",
      " 2.64744343e+00 5.56670106e+00 9.36168211e+00 4.04811415e+00\n",
      " 9.08033598e+00 9.19276302e+00 6.45073660e-01 2.95208257e+00\n",
      " 9.71717712e+00 6.58473894e+00 4.81997032e+00 8.94472554e+00\n",
      " 9.95377343e+00 7.88547456e+00 9.49668002e+00 3.40046014e+00\n",
      " 4.03270824e+00 8.31566970e+00 6.67372817e+00 7.91064329e-01\n",
      " 7.03734377e+00 7.16545956e+00 9.47595673e+00 3.16486005e+00\n",
      " 4.40993319e+00 7.72912543e+00 7.39150035e+00 4.49119970e+00\n",
      " 5.95963100e+00 4.84115884e+00 3.63774497e+00 1.86563640e+00\n",
      " 2.74641368e+00 7.43506156e+00 5.73468408e+00 9.53069552e+00\n",
      " 7.33118180e+00 4.19631253e-01 7.68981336e+00 2.51548034e+00\n",
      " 6.55452990e+00 8.14873014e+00 7.41323470e+00 6.42752226e+00\n",
      " 3.18505186e+00 4.51261814e+00 4.86505092e+00 6.44630111e+00\n",
      " 4.73375919e+00 5.32891377e+00 1.05124340e+00 4.10813927e+00\n",
      " 8.46690961e+00 8.83564484e+00 3.61332898e-01 1.70436640e+00\n",
      " 6.95364743e-01 3.58448696e+00 2.57219243e+00 6.35848658e+00\n",
      " 6.21166417e+00 2.51630485e+00 4.36143776e-01 9.30168057e+00\n",
      " 9.34685770e+00 7.82149041e+00 5.22577619e+00 8.21800919e+00\n",
      " 7.87885004e+00 6.10018281e+00 6.42172717e+00 3.95314286e+00\n",
      " 3.52184604e+00 5.46447887e+00 1.34433493e+00 9.46955909e+00\n",
      " 3.87765058e+00 2.16467349e+00 2.64809057e+00 6.29553672e+00\n",
      " 6.05229515e+00 2.44462981e+00 4.26046096e+00 4.98851702e+00\n",
      " 4.73805342e+00 6.89489402e+00 3.27606972e+00 2.67231557e+00\n",
      " 7.40727307e+00 7.83776068e+00 7.55998863e+00 4.00158424e+00\n",
      " 8.65178935e+00 1.08090132e+00 8.31223029e+00 9.09669273e-01\n",
      " 9.94967634e+00 5.69463616e+00 5.06053014e+00 2.64074128e+00\n",
      " 9.71563938e+00 4.42842366e+00 6.75088481e+00 4.32058678e+00\n",
      " 2.07847959e+00 9.11247685e+00 5.33600883e+00 5.66066066e+00\n",
      " 6.88046029e+00 8.42969915e+00 5.21118336e-01 6.19864693e+00\n",
      " 3.50154883e+00 9.43026512e+00 2.75083337e+00 8.90156529e+00\n",
      " 5.37144002e+00 2.35428268e+00 7.45422718e+00 3.86037353e+00\n",
      " 8.35315011e+00 9.91761400e+00 6.58549185e+00 3.98749353e+00\n",
      " 6.02314715e+00 3.85737021e+00 6.48502851e+00 6.00207205e+00\n",
      " 4.95647795e+00 3.21608736e+00 2.01460281e+00 8.23975658e+00\n",
      " 2.67437193e+00 3.26963029e+00 7.82692741e+00 3.58236113e-01\n",
      " 2.06270576e-01 4.45447633e+00 8.32871549e+00 5.80929160e+00\n",
      " 9.03379896e+00 1.44995146e+00 2.97313833e+00 6.40427040e+00\n",
      " 8.76221602e+00 8.62325804e+00 3.50323242e+00 5.64100181e+00\n",
      " 7.11137316e+00 7.28557816e+00 8.35290804e+00 9.27980028e-01\n",
      " 3.92742635e+00 2.78753502e+00 6.47355124e+00 7.01889142e+00\n",
      " 6.88048976e+00 4.59013574e+00 2.01273601e-01 5.89014627e+00\n",
      " 9.25858508e+00 4.95184972e+00 9.77380255e+00 9.71181399e+00\n",
      " 7.66142578e+00 8.82710636e+00 2.32833164e+00 7.83946081e+00\n",
      " 5.11695160e+00 1.06443549e+00 1.09870862e+00 2.00745606e-02\n",
      " 9.28049557e+00 5.52351668e+00 7.91639623e+00 8.46472690e+00\n",
      " 8.83286570e+00 2.91055170e+00 8.64441012e+00 3.84363670e+00\n",
      " 7.16344406e-01 1.53038487e+00 7.93569113e+00 4.54919048e+00\n",
      " 4.99836105e+00 3.95849458e+00 1.26773054e+00 8.06549197e-01\n",
      " 6.13563109e+00 9.74363974e+00 3.68135049e+00 2.51229768e+00\n",
      " 8.21351956e+00 4.08118336e+00 6.38423211e-01 5.80986468e+00\n",
      " 6.96287448e+00 5.43028132e+00 6.19555226e+00 7.65555948e+00\n",
      " 5.96276906e+00 3.64109940e+00 8.93127525e+00 7.82228254e+00\n",
      " 9.44531797e+00 3.23288383e+00 1.40959053e+00 4.99437795e+00\n",
      " 2.97515278e+00 2.35618104e-01 4.90075184e+00 3.57815952e+00\n",
      " 2.21527065e+00 7.66883497e+00 8.93542628e+00 5.85928701e+00\n",
      " 1.36009672e+00 9.49791064e+00 6.08257983e+00 7.40005650e+00\n",
      " 6.11475086e+00 8.42707022e+00 4.25660498e+00 7.78614338e+00\n",
      " 3.32119363e+00 4.83199437e+00 4.93165896e+00 6.96784632e+00\n",
      " 5.66629977e+00 9.06874373e+00 5.44138052e+00 2.51229954e+00\n",
      " 2.04942168e+00 7.96938571e+00 8.43919445e+00 9.45131552e+00\n",
      " 8.55480091e-01 9.64769267e+00 3.74834518e+00 6.10700063e+00\n",
      " 2.27099022e+00 5.60300640e+00 6.46988119e+00 4.43664642e+00\n",
      " 8.65204890e+00 5.17687465e+00 4.62500067e+00 9.98223309e+00\n",
      " 9.64995321e+00 1.82286819e+00 7.40096489e+00 1.17300224e+00\n",
      " 5.70746092e+00 5.43497003e+00 5.09505814e+00 3.25997087e+00\n",
      " 9.76224626e+00 9.20604553e+00 3.99981832e+00 7.25121285e+00\n",
      " 7.67198764e-01 2.57033061e+00 2.36041281e+00 6.34099366e+00\n",
      " 4.34058382e-01 5.86958288e+00 2.13284612e+00 8.26756190e+00\n",
      " 9.56412613e+00 7.83819914e+00 1.33889172e+00 7.37777597e+00\n",
      " 1.66573876e+00 5.81221932e+00 7.21514610e+00 5.00478928e+00\n",
      " 3.81007438e+00 1.63947682e+00 7.05720463e+00 7.98777326e+00\n",
      " 1.14794401e+00 9.71236216e+00 1.87280027e-01 6.34138145e+00\n",
      " 8.87419327e-01 2.45524106e+00 8.56624485e+00 7.98158004e+00\n",
      " 1.47371713e+00 5.26581224e+00 4.36927967e+00 4.03411555e+00\n",
      " 9.46993664e+00 4.47673050e+00 5.87136621e+00 1.59165391e+00\n",
      " 6.81830931e+00 8.20145793e+00 1.97331708e+00 4.26501683e+00\n",
      " 9.05394532e+00 1.72159041e+00 6.85551710e+00 5.60585188e+00\n",
      " 6.43323991e+00 1.70804698e+00 6.18776480e+00 9.52233328e+00\n",
      " 9.50985660e+00 8.93238257e+00 9.31987935e+00 9.57542712e+00\n",
      " 7.47215596e-01 3.81396587e+00 9.00591543e+00 6.00076269e+00\n",
      " 4.06921496e+00 6.20698491e+00 2.53874655e+00 7.96623199e+00\n",
      " 1.88388707e+00 7.29934765e+00 9.77031781e+00 3.88906354e+00\n",
      " 7.91235641e+00 2.47375472e+00 8.59688003e+00 2.38081127e-01\n",
      " 6.87443997e+00 6.04048329e+00 1.64018681e+00 9.56694161e+00\n",
      " 5.59904550e+00 6.65803536e+00 3.78205854e+00 8.75579762e+00\n",
      " 7.28936436e-01 8.02566667e-01 8.71618543e+00 2.51767058e+00\n",
      " 8.56894075e+00 2.51286834e+00 4.16524122e+00 4.65479327e+00\n",
      " 8.54962312e+00 5.51143134e+00 5.79384409e+00 5.88633164e+00\n",
      " 9.68333279e+00 1.54670689e+00 7.17792281e+00 4.88979236e+00\n",
      " 6.20035705e+00 1.53940091e+00 6.21090683e+00 9.69352480e+00\n",
      " 8.48741811e+00 1.21068295e-01 1.15509102e+00 1.72903721e+00\n",
      " 4.23307442e-01 2.70718974e+00 4.00300246e+00 5.19781112e+00\n",
      " 9.82879014e+00 3.45020418e+00 1.59706425e+00 9.53470284e+00\n",
      " 8.92853320e+00 7.37881091e+00 6.00534409e-01 1.01570973e+00]\n"
     ]
    }
   ],
   "source": [
    "uniform_data=np.random.uniform(0,10,1000)\n",
    "print(\"Uniform Distribution Data\\n\",uniform_data)"
   ]
  },
  {
   "cell_type": "code",
   "execution_count": 43,
   "id": "37217efe",
   "metadata": {},
   "outputs": [
    {
     "name": "stdout",
     "output_type": "stream",
     "text": [
      "Random Integers Data\n",
      " [ 0 10  5 16  5  6  8 16 10 14  4  6 18 18 15 19  0  4 13  2  0 19 18 15\n",
      "  7  5  2 18 17  1 15 11  3 11 12 19 17  9 18  1  4 16 19 10  8  0 18 12\n",
      "  7  3 14 14  4  5  2 18 17 10  8  9  9  6 12 14 17 10 14 11 11 13  7 14\n",
      " 11 10 11  3  9  4 14  6  9 12  2 15  5 14 15  5 16 19 12 12  2 12 18 14\n",
      " 15  2  0 17 14  2  3  1 16  0 13  0 13 17  1 13  7 10 10  2 15  9  2  3\n",
      "  5  0 16 13 17 18  0 14 17 11  1  0  5 19 13 18 16  5  3  4  4  5 19 11\n",
      " 10  8 12  0 18  6 16  2  0 17 19 10 10  4 19  6 17 19 16  1 18 10 15 10\n",
      " 10  3 10 17  3  2 11  9 18  1  5  9 17 11  7 15  3 16  9 18  2 18 10  4\n",
      "  6  1  1  4  2 12  3  5 15  1 12 17  8 12  1 11  8  8  5  0  6  4 16 18\n",
      " 17  7 16  0  1 12  7 10 12  4 10 14  3 19 18 12  5 19 15 11  4 16  0  7\n",
      "  2 19  1 14  9 12 19  2 12 18 17 19 12 19  8  9 15 12  6  5 17  1  3 12\n",
      " 11 15  4  0  4  4 14 14 18  7  9  9 13  0  8 10  4  6 18  7  8  0  8  6\n",
      " 14 11 13 13  7 15  1  8 11 14 19  6  2  6  4 10 11  3 16 19 11  0 13  6\n",
      "  2  5 12  0 11  8  4 11 16 10  2 18  0  6 19  7 11  3 16  3  1  3  4 13\n",
      "  4 11 14  2 12  5  3 18  6  9  5 12  3  7  5  9  3 14  3 16 18 14  2  3\n",
      "  2 14 14 15 12  9 16 13  3  1  2  4 17  1 19  0  7  7 11  5  8 11 18  2\n",
      "  4  2  4  7 17 11 13  9  8 18 12 16 11 15  8  5 14  6 12  1 19  1 18 14\n",
      " 15 19  2  4  9 12  1  1  1 13 11 14  2 14  8 12  9 16  1 13  8  4 11 17\n",
      "  1  9 13  9  6  2  7  1  9 14 12 17  3 17 12 19 15  2  5 18 18 18 12  8\n",
      " 17  5 12 15  9  2 17  2  8 14 19 14 17  4 16 11 17 13  4 18 18 13  0 18\n",
      " 17 11 18 10  9  1 10 16 17  2 15 16  9  0 10  8  7 16  6 18  2 12  1  1\n",
      "  2 10 18 10 14 19 17 12 19 12  0  2 17 16 19  0  2 18  5 17 13  7  9  0\n",
      " 12  1  7  2  7 16  5 10 10 15 16 18  9 11  3 19 13 17  2 18  5  5 18 10\n",
      "  8  3  0 17  0  7 13 15 18  8 18  4  3 18  1 17  8  1  9 12 14 13  7  8\n",
      " 19 18  1 11  0  0  4 16  6 11  7  9 19 16  8  1 18 10 14  3 18 19 14  9\n",
      " 18 12  1 11 13 18 13 18  9  0  8 12 14  3 12  1  2  0 11  3  7 15  6 12\n",
      " 16 13  6  3  4  9  6 13 14 11  4 16  4  9  5 18 17 11  1 10  4 12  0  0\n",
      "  4 15 19  6  9 10 17  9 14  4  3 16 17  6 15 18 10  9 15  2 13 13  8 17\n",
      "  7  0 12 13 17  4  4 10 17  3  4 10  3 15  0 18  8  0 12  1  7 13  7  2\n",
      " 15  3  5 14 11  2 19 12  8 14 12  9  9  2 16 13  0 17 13  9 12  0  9 17\n",
      "  4 10  5 15  6  9  0  2  7  2  4 14  2  9 17 16  6  0  2  1  8  7  6 11\n",
      " 13  1  0 11 13 18  2  2  4  1 13  5 19 16 19 19 11 19  3  7 16  1 13 13\n",
      "  5 19  5  8  2 12 19 11 18  4 13  4  1 10 10  8  1 12  0 16  0  6  8 18\n",
      "  7 17 13 15  9 10  5  9 10 14 10 14  4  7 16  6  3  6  1  7 11  9 12  7\n",
      " 18  1  8  1 19 13  9 13  4  6 11  5  5  8 18  8  7 17  9  1  0 13  0  5\n",
      " 16  2 18  3  3  8  1 14  5 15 11 13 19  2  0 10  0 19  4  0 18 14  3 10\n",
      "  0  5  1 13  9 10  2  6  0 10 16 14 14  5  9 18  8  8  4 13  4 10  7 12\n",
      " 11 13  1  7 17  9  5  0 12  5 14  5  2  7 18 12 16  0 16  8  7  4 17 16\n",
      " 12 16  3  9 11 15  4 11  9  6  1 12 12 14 16 18  7 11  0 14 18  3  6  8\n",
      " 14  8  3 19  8 12  7  5  3 14  9 16 14  3  2 19  8 18  1  4 14  2 10  2\n",
      " 13  3  0  2  4 14  5 18 14 16  9 10  4 15  5  6  0 17 16  6  7  2 15 18\n",
      "  0 14  7 10  7  7 18 14 15  0  1  0  9  2 13  6]\n"
     ]
    }
   ],
   "source": [
    "random_integers=np.random.randint(0,20,1000)\n",
    "print(\"Random Integers Data\\n\",random_integers)"
   ]
  },
  {
   "cell_type": "code",
   "execution_count": 48,
   "id": "c6999270",
   "metadata": {},
   "outputs": [
    {
     "data": {
      "text/plain": [
       "Text(0.5, 1.0, 'Histogram of Uniform Distribution')"
      ]
     },
     "execution_count": 48,
     "metadata": {},
     "output_type": "execute_result"
    },
    {
     "data": {
      "image/png": "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",
      "text/plain": [
       "<Figure size 640x480 with 1 Axes>"
      ]
     },
     "metadata": {},
     "output_type": "display_data"
    }
   ],
   "source": [
    "import matplotlib.pyplot as plt\n",
    "plt.hist(uniform_data,edgecolor=\"black\")\n",
    "plt.title(\"Histogram of Uniform Distribution\")"
   ]
  },
  {
   "cell_type": "code",
   "execution_count": 47,
   "id": "e522587e",
   "metadata": {},
   "outputs": [
    {
     "data": {
      "text/plain": [
       "Text(0.5, 1.0, 'Histogram of Random integers')"
      ]
     },
     "execution_count": 47,
     "metadata": {},
     "output_type": "execute_result"
    },
    {
     "data": {
      "image/png": "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",
      "text/plain": [
       "<Figure size 640x480 with 1 Axes>"
      ]
     },
     "metadata": {},
     "output_type": "display_data"
    }
   ],
   "source": [
    "plt.hist(random_integers,edgecolor=\"black\")\n",
    "plt.title(\"Histogram of Random integers\")"
   ]
  },
  {
   "cell_type": "code",
   "execution_count": null,
   "id": "41ad8625",
   "metadata": {},
   "outputs": [],
   "source": [
    "#calculating determinant of matrix"
   ]
  },
  {
   "cell_type": "code",
   "execution_count": 53,
   "id": "e86c491d",
   "metadata": {},
   "outputs": [
    {
     "name": "stdout",
     "output_type": "stream",
     "text": [
      "235.0\n"
     ]
    }
   ],
   "source": [
    "mat1=np.array([[2,5,1],[0,8,7],[9,4,3]])\n",
    "Det=np.linalg.det(mat1)\n",
    "print(Det)"
   ]
  },
  {
   "cell_type": "code",
   "execution_count": null,
   "id": "b53b28e7",
   "metadata": {},
   "outputs": [],
   "source": [
    "#solving a system of linear equation using np.linalg.det() and np.linalg.solve()"
   ]
  },
  {
   "cell_type": "code",
   "execution_count": 54,
   "id": "1e831e97",
   "metadata": {},
   "outputs": [],
   "source": [
    "A = np.array([[2, 3, 1],\n",
    "              [4, 1, 2],\n",
    "              [-3, 2, 5]])\n"
   ]
  },
  {
   "cell_type": "code",
   "execution_count": 55,
   "id": "40f3823a",
   "metadata": {},
   "outputs": [],
   "source": [
    "b = np.array([1, 2, 3])\n"
   ]
  },
  {
   "cell_type": "code",
   "execution_count": 56,
   "id": "76a76091",
   "metadata": {},
   "outputs": [
    {
     "name": "stdout",
     "output_type": "stream",
     "text": [
      "Solution of system (x,y,z): [1.53846154e-01 4.03717464e-17 6.92307692e-01]\n"
     ]
    }
   ],
   "source": [
    "det_A=np.linalg.det(A)\n",
    "if(det_A!=0):\n",
    "    x=np.linalg.solve(A,b)\n",
    "    print(f\"Solution of system (x,y,z): {x}\")\n",
    "else:\n",
    "    print(\"Matrix A is singular, no unique solution exists\")"
   ]
  },
  {
   "cell_type": "code",
   "execution_count": null,
   "id": "b50688ed",
   "metadata": {},
   "outputs": [],
   "source": [
    "#covarince and corelation"
   ]
  },
  {
   "cell_type": "code",
   "execution_count": 57,
   "id": "4954e20f",
   "metadata": {},
   "outputs": [
    {
     "name": "stdout",
     "output_type": "stream",
     "text": [
      "Covariance between X and Y: -2.5\n"
     ]
    }
   ],
   "source": [
    "X = np.array([1, 2, 3, 4, 5])\n",
    "Y = np.array([5, 4, 3, 2, 1])\n",
    "cov_matrix = np.cov(X, Y)\n",
    "cov_XY = cov_matrix[0, 1]\n",
    "print(f\"Covariance between X and Y: {cov_XY}\")"
   ]
  },
  {
   "cell_type": "code",
   "execution_count": 58,
   "id": "7860271c",
   "metadata": {},
   "outputs": [
    {
     "name": "stdout",
     "output_type": "stream",
     "text": [
      "Pearson correlation coefficient between X and Y: -0.9999999999999999\n"
     ]
    }
   ],
   "source": [
    "correlation_XY = np.corrcoef(X, Y)[0, 1]\n",
    "print(f\"Pearson correlation coefficient between X and Y: {correlation_XY}\")"
   ]
  },
  {
   "cell_type": "code",
   "execution_count": 59,
   "id": "66e46ee6",
   "metadata": {},
   "outputs": [],
   "source": [
    "#sort and serach an element in an array"
   ]
  },
  {
   "cell_type": "code",
   "execution_count": 60,
   "id": "a6d8828b",
   "metadata": {},
   "outputs": [
    {
     "name": "stdout",
     "output_type": "stream",
     "text": [
      "Sorted Array (Ascending): [ 3  4  5  7 12 15 19]\n"
     ]
    }
   ],
   "source": [
    "array = np.array([12, 4, 5, 19, 7, 3, 15])\n",
    "sorted_array = np.sort(array)\n",
    "print(f\"Sorted Array (Ascending): {sorted_array}\")"
   ]
  },
  {
   "cell_type": "code",
   "execution_count": 61,
   "id": "5b9fbb26",
   "metadata": {},
   "outputs": [],
   "source": [
    "search_element = 7\n",
    "index = np.searchsorted(sorted_array, search_element)"
   ]
  },
  {
   "cell_type": "code",
   "execution_count": 62,
   "id": "3de8a378",
   "metadata": {},
   "outputs": [
    {
     "name": "stdout",
     "output_type": "stream",
     "text": [
      "Element 7 found at index 3 in the sorted array.\n"
     ]
    }
   ],
   "source": [
    "if index < len(sorted_array) and sorted_array[index] == search_element:\n",
    "    print(f\"Element {search_element} found at index {index} in the sorted array.\")\n",
    "else:\n",
    "    print(f\"Element {search_element} not found in the sorted array.\")"
   ]
  },
  {
   "cell_type": "code",
   "execution_count": null,
   "id": "1545782d",
   "metadata": {},
   "outputs": [],
   "source": []
  }
 ],
 "metadata": {
  "kernelspec": {
   "display_name": "Python 3 (ipykernel)",
   "language": "python",
   "name": "python3"
  },
  "language_info": {
   "codemirror_mode": {
    "name": "ipython",
    "version": 3
   },
   "file_extension": ".py",
   "mimetype": "text/x-python",
   "name": "python",
   "nbconvert_exporter": "python",
   "pygments_lexer": "ipython3",
   "version": "3.11.5"
  }
 },
 "nbformat": 4,
 "nbformat_minor": 5
}
